{
 "metadata": {
  "language_info": {
   "codemirror_mode": {
    "name": "ipython",
    "version": 3
   },
   "file_extension": ".py",
   "mimetype": "text/x-python",
   "name": "python",
   "nbconvert_exporter": "python",
   "pygments_lexer": "ipython3",
   "version": "3.9.5-final"
  },
  "orig_nbformat": 2,
  "kernelspec": {
   "name": "python3",
   "display_name": "Python 3.9.5 64-bit",
   "metadata": {
    "interpreter": {
     "hash": "ac59ebe37160ed0dfa835113d9b8498d9f09ceb179beaac4002f036b9467c963"
    }
   }
  }
 },
 "nbformat": 4,
 "nbformat_minor": 2,
 "cells": [
  {
   "cell_type": "code",
   "execution_count": 3,
   "metadata": {},
   "outputs": [],
   "source": [
    "import pandas as pd"
   ]
  },
  {
   "cell_type": "code",
   "execution_count": 4,
   "metadata": {},
   "outputs": [],
   "source": [
    "df=pd.read_csv(\"transactions.csv\")"
   ]
  },
  {
   "cell_type": "code",
   "execution_count": 5,
   "metadata": {},
   "outputs": [
    {
     "output_type": "execute_result",
     "data": {
      "text/plain": [
       "Index(['cc_num', 'first', 'last', 'trans_num', 'trans_date', 'trans_time',\n",
       "       'unix_time', 'category', 'merchant', 'amt', 'merch_lat', 'merch_long',\n",
       "       'is_fraud'],\n",
       "      dtype='object')"
      ]
     },
     "metadata": {},
     "execution_count": 5
    }
   ],
   "source": [
    "df.columns\n"
   ]
  },
  {
   "cell_type": "code",
   "execution_count": 7,
   "metadata": {},
   "outputs": [
    {
     "output_type": "execute_result",
     "data": {
      "text/plain": [
       "(11871, 13)"
      ]
     },
     "metadata": {},
     "execution_count": 7
    }
   ],
   "source": [
    "df.shape"
   ]
  },
  {
   "cell_type": "code",
   "execution_count": 6,
   "metadata": {},
   "outputs": [
    {
     "output_type": "stream",
     "name": "stdout",
     "text": [
      "<class 'pandas.core.frame.DataFrame'>\nRangeIndex: 11871 entries, 0 to 11870\nData columns (total 13 columns):\n #   Column      Non-Null Count  Dtype  \n---  ------      --------------  -----  \n 0   cc_num      11871 non-null  float64\n 1   first       11871 non-null  object \n 2   last        11871 non-null  object \n 3   trans_num   11871 non-null  object \n 4   trans_date  11871 non-null  object \n 5   trans_time  11871 non-null  object \n 6   unix_time   11871 non-null  int64  \n 7   category    11871 non-null  object \n 8   merchant    11871 non-null  object \n 9   amt         11871 non-null  int64  \n 10  merch_lat   11871 non-null  float64\n 11  merch_long  11871 non-null  float64\n 12  is_fraud    11871 non-null  int64  \ndtypes: float64(3), int64(3), object(7)\nmemory usage: 1.2+ MB\n"
     ]
    }
   ],
   "source": [
    "df.info()"
   ]
  },
  {
   "cell_type": "code",
   "execution_count": 13,
   "metadata": {},
   "outputs": [],
   "source": [
    "dfc2= df.iloc[8001:, :]\n"
   ]
  },
  {
   "cell_type": "code",
   "execution_count": 14,
   "metadata": {},
   "outputs": [
    {
     "output_type": "stream",
     "name": "stdout",
     "text": [
      "DataFrame dfc has been saved to 'sample_transactions.csv' as a CSV file.\n"
     ]
    }
   ],
   "source": [
    "# Assuming dfc is already created\n",
    "\n",
    "# Specify the file path where you want to save the CSV file\n",
    "csv_file_path = 'sample_transactions.csv'\n",
    "\n",
    "# Save the DataFrame dfc to a CSV file\n",
    "dfc2.to_csv(csv_file_path, index=False)\n",
    "\n",
    "# Optionally, print a message to confirm that the CSV file has been saved\n",
    "print(f\"DataFrame dfc has been saved to '{csv_file_path}' as a CSV file.\")\n"
   ]
  },
  {
   "cell_type": "code",
   "execution_count": 9,
   "metadata": {},
   "outputs": [
    {
     "output_type": "stream",
     "name": "stdout",
     "text": [
      "<class 'pandas.core.frame.DataFrame'>\nRangeIndex: 48367 entries, 0 to 48366\nData columns (total 19 columns):\n #   Column                 Non-Null Count  Dtype \n---  ------                 --------------  ----- \n 0   CARD HOLDER NAME       48367 non-null  object\n 1   VISA MERCH ID          48367 non-null  int64 \n 2   ADDRESS LINE 1         48367 non-null  object\n 3   ADDRESS LINE 2         48362 non-null  object\n 4   CITY                   48367 non-null  object\n 5   STATE                  48367 non-null  object\n 6   ZIP CODE               48367 non-null  object\n 7   WORK PHONE             48367 non-null  int64 \n 8   EMAIL ADDRESS          48367 non-null  object\n 9   MCC CODE               48367 non-null  int64 \n 10  TRANSACTION DATE       48367 non-null  object\n 11  TRANSACTION AMOUNT     48367 non-null  object\n 12  MERCHANT NAME          48367 non-null  object\n 13  MERCHANT ADDRESS       48367 non-null  object\n 14  MERCHANT CITY          48367 non-null  object\n 15  MERCHANT STATE         48367 non-null  object\n 16  MERCHANT ZIP           48367 non-null  int64 \n 17  MERCHANT PHONE NUMBER  48367 non-null  object\n 18  POST DATE              48367 non-null  object\ndtypes: int64(4), object(15)\nmemory usage: 7.0+ MB\n"
     ]
    }
   ],
   "source": [
    "dfc.info()"
   ]
  },
  {
   "cell_type": "code",
   "execution_count": 11,
   "metadata": {},
   "outputs": [
    {
     "output_type": "execute_result",
     "data": {
      "text/plain": [
       "(48367, 19)"
      ]
     },
     "metadata": {},
     "execution_count": 11
    }
   ],
   "source": [
    "dfc.shape\n"
   ]
  },
  {
   "cell_type": "code",
   "execution_count": 12,
   "metadata": {},
   "outputs": [
    {
     "output_type": "execute_result",
     "data": {
      "text/plain": [
       "CARD HOLDER NAME         0\n",
       "VISA MERCH ID            0\n",
       "ADDRESS LINE 1           0\n",
       "ADDRESS LINE 2           5\n",
       "CITY                     0\n",
       "STATE                    0\n",
       "ZIP CODE                 0\n",
       "WORK PHONE               0\n",
       "EMAIL ADDRESS            0\n",
       "MCC CODE                 0\n",
       "TRANSACTION DATE         0\n",
       "TRANSACTION AMOUNT       0\n",
       "MERCHANT NAME            0\n",
       "MERCHANT ADDRESS         0\n",
       "MERCHANT CITY            0\n",
       "MERCHANT STATE           0\n",
       "MERCHANT ZIP             0\n",
       "MERCHANT PHONE NUMBER    0\n",
       "POST DATE                0\n",
       "dtype: int64"
      ]
     },
     "metadata": {},
     "execution_count": 12
    }
   ],
   "source": [
    "dfc.isnull().sum()"
   ]
  },
  {
   "source": [
    "Remove address column null values"
   ],
   "cell_type": "markdown",
   "metadata": {}
  },
  {
   "cell_type": "code",
   "execution_count": 18,
   "metadata": {},
   "outputs": [],
   "source": [
    "dfc=dfc.dropna()"
   ]
  },
  {
   "cell_type": "code",
   "execution_count": 17,
   "metadata": {},
   "outputs": [
    {
     "output_type": "execute_result",
     "data": {
      "text/plain": [
       "(48362, 19)"
      ]
     },
     "metadata": {},
     "execution_count": 17
    }
   ],
   "source": [
    "dfc.shape"
   ]
  },
  {
   "cell_type": "code",
   "execution_count": 19,
   "metadata": {},
   "outputs": [
    {
     "output_type": "execute_result",
     "data": {
      "text/plain": [
       "CARD HOLDER NAME         0\n",
       "VISA MERCH ID            0\n",
       "ADDRESS LINE 1           0\n",
       "ADDRESS LINE 2           0\n",
       "CITY                     0\n",
       "STATE                    0\n",
       "ZIP CODE                 0\n",
       "WORK PHONE               0\n",
       "EMAIL ADDRESS            0\n",
       "MCC CODE                 0\n",
       "TRANSACTION DATE         0\n",
       "TRANSACTION AMOUNT       0\n",
       "MERCHANT NAME            0\n",
       "MERCHANT ADDRESS         0\n",
       "MERCHANT CITY            0\n",
       "MERCHANT STATE           0\n",
       "MERCHANT ZIP             0\n",
       "MERCHANT PHONE NUMBER    0\n",
       "POST DATE                0\n",
       "dtype: int64"
      ]
     },
     "metadata": {},
     "execution_count": 19
    }
   ],
   "source": [
    "dfc.isnull().sum()"
   ]
  },
  {
   "cell_type": "code",
   "execution_count": 20,
   "metadata": {},
   "outputs": [
    {
     "output_type": "execute_result",
     "data": {
      "text/plain": [
       "(48362, 19)"
      ]
     },
     "metadata": {},
     "execution_count": 20
    }
   ],
   "source": [
    "dfc.shape"
   ]
  },
  {
   "cell_type": "code",
   "execution_count": 21,
   "metadata": {},
   "outputs": [],
   "source": [
    "import pandas as pd\n",
    "from sklearn.model_selection import train_test_split\n",
    "from sklearn.preprocessing import LabelEncoder\n",
    "from sklearn.ensemble import RandomForestClassifier\n",
    "from sklearn.metrics import accuracy_score, confusion_matrix\n",
    "import xgboost as xgb\n"
   ]
  },
  {
   "cell_type": "code",
   "execution_count": 23,
   "metadata": {},
   "outputs": [],
   "source": [
    "data = pd.read_csv(\"ds1.csv\")"
   ]
  },
  {
   "cell_type": "code",
   "execution_count": 24,
   "metadata": {},
   "outputs": [],
   "source": [
    "# Preprocessing\n",
    "# Drop irrelevant columns (like names, addresses, etc.)\n",
    "data = data.drop(['CARD HOLDER NAME', 'ADDRESS LINE 1', 'ADDRESS LINE 2', 'CITY', 'STATE', 'ZIP CODE',\n",
    "                  'WORK PHONE', 'EMAIL ADDRESS', 'MERCHANT ADDRESS', 'MERCHANT CITY', 'MERCHANT STATE',\n",
    "                  'MERCHANT ZIP', 'MERCHANT PHONE NUMBER', 'POST DATE'], axis=1)\n",
    "                  "
   ]
  },
  {
   "cell_type": "code",
   "execution_count": 25,
   "metadata": {},
   "outputs": [
    {
     "output_type": "execute_result",
     "data": {
      "text/plain": [
       "(48367, 5)"
      ]
     },
     "metadata": {},
     "execution_count": 25
    }
   ],
   "source": [
    "data.shape"
   ]
  },
  {
   "cell_type": "code",
   "execution_count": 26,
   "metadata": {},
   "outputs": [
    {
     "output_type": "execute_result",
     "data": {
      "text/plain": [
       "Index(['VISA MERCH ID', 'MCC CODE', 'TRANSACTION DATE', 'TRANSACTION AMOUNT',\n",
       "       'MERCHANT NAME'],\n",
       "      dtype='object')"
      ]
     },
     "metadata": {},
     "execution_count": 26
    }
   ],
   "source": [
    "data.columns"
   ]
  },
  {
   "cell_type": "code",
   "execution_count": 27,
   "metadata": {},
   "outputs": [],
   "source": [
    "data = data.drop(['TRANSACTION DATE'], axis=1)"
   ]
  },
  {
   "cell_type": "code",
   "execution_count": 28,
   "metadata": {},
   "outputs": [],
   "source": [
    "# Encode categorical variables\n",
    "label_encoders = {}\n",
    "for column in data.select_dtypes(include=['object']).columns:\n",
    "    label_encoders[column] = LabelEncoder()\n",
    "    data[column] = label_encoders[column].fit_transform(data[column])"
   ]
  },
  {
   "cell_type": "code",
   "execution_count": 29,
   "metadata": {},
   "outputs": [],
   "source": [
    "X = data.drop('MCC CODE', axis=1)\n",
    "y = data['MCC CODE']"
   ]
  },
  {
   "cell_type": "code",
   "execution_count": 30,
   "metadata": {},
   "outputs": [],
   "source": [
    "# Split data into train and test sets\n",
    "X_train, X_test, y_train, y_test = train_test_split(X, y, test_size=0.2, random_state=42)\n",
    "\n",
    "# Model training - RandomForestClassifier\n",
    "rf_classifier = RandomForestClassifier(n_estimators=100, random_state=42)\n",
    "rf_classifier.fit(X_train, y_train)\n",
    "\n",
    "# Predictions\n",
    "rf_predictions = rf_classifier.predict(X_test)"
   ]
  },
  {
   "cell_type": "code",
   "execution_count": 31,
   "metadata": {},
   "outputs": [
    {
     "output_type": "stream",
     "name": "stdout",
     "text": [
      "Random Forest Classifier:\nAccuracy: 0.6854455240851768\nConfusion Matrix:\n[[312   0   0 ...   0   0   0]\n [  0   1   0 ...   0   0   0]\n [  0   0   8 ...   0   2   0]\n ...\n [  0   0   0 ...   1   0   0]\n [  0   0   0 ...   0 694   0]\n [  0   0   0 ...   0   2 156]]\n"
     ]
    }
   ],
   "source": [
    "# Model evaluation\n",
    "print(\"Random Forest Classifier:\")\n",
    "print(\"Accuracy:\", accuracy_score(y_test, rf_predictions))\n",
    "print(\"Confusion Matrix:\")\n",
    "print(confusion_matrix(y_test, rf_predictions))"
   ]
  },
  {
   "cell_type": "code",
   "execution_count": 32,
   "metadata": {},
   "outputs": [
    {
     "output_type": "error",
     "ename": "ValueError",
     "evalue": "Invalid classes inferred from unique values of `y`.  Expected: [  0   1   2   3   4   5   6   7   8   9  10  11  12  13  14  15  16  17\n  18  19  20  21  22  23  24  25  26  27  28  29  30  31  32  33  34  35\n  36  37  38  39  40  41  42  43  44  45  46  47  48  49  50  51  52  53\n  54  55  56  57  58  59  60  61  62  63  64  65  66  67  68  69  70  71\n  72  73  74  75  76  77  78  79  80  81  82  83  84  85  86  87  88  89\n  90  91  92  93  94  95  96  97  98  99 100 101 102 103 104 105 106 107\n 108 109 110 111 112 113 114 115 116 117 118 119 120 121 122 123 124 125\n 126 127 128 129 130 131 132 133 134 135 136 137 138 139 140 141 142 143\n 144 145 146 147 148 149 150 151 152 153 154 155 156 157 158 159 160 161\n 162 163 164 165 166 167 168 169 170 171 172 173 174 175 176 177 178 179\n 180 181 182 183 184 185 186 187 188 189 190 191 192 193 194 195 196 197\n 198 199 200 201 202 203 204 205 206 207 208 209 210 211 212 213 214 215\n 216 217 218 219 220 221 222 223 224 225 226 227 228 229 230 231 232 233\n 234 235 236 237 238 239 240 241 242 243 244 245 246 247 248 249 250 251\n 252 253 254 255 256 257 258 259 260 261 262 263 264 265 266 267 268], got [   0  742  763  780 1520 1711 1731 1740 1750 1761 1771 1799 2741 2791\n 2842 3000 3058 3061 3256 3395 3405 3501 3502 3503 3504 3507 3508 3509\n 3510 3515 3516 3562 3604 3630 3631 3637 3638 3640 3644 3662 3665 3690\n 3692 3693 3695 3700 3703 3706 3709 3715 3722 3740 3778 3791 4011 4111\n 4119 4121 4131 4214 4215 4225 4457 4468 4511 4582 4722 4784 4789 4812\n 4814 4816 4821 4899 4900 5013 5021 5039 5044 5045 5046 5047 5051 5065\n 5072 5074 5085 5094 5099 5111 5122 5131 5137 5139 5169 5172 5192 5193\n 5198 5199 5200 5211 5231 5251 5261 5300 5310 5311 5331 5399 5411 5422\n 5441 5462 5499 5511 5521 5532 5533 5541 5542 5551 5561 5571 5592 5598\n 5599 5611 5621 5631 5651 5655 5661 5691 5697 5699 5712 5713 5714 5718\n 5719 5722 5732 5733 5734 5735 5811 5812 5814 5912 5921 5931 5932 5935\n 5940 5941 5942 5943 5944 5945 5946 5947 5948 5949 5950 5960 5964 5965\n 5967 5968 5969 5970 5971 5972 5975 5976 5977 5978 5983 5992 5994 5995\n 5996 5998 5999 6051 6211 6300 6513 7011 7032 7033 7210 7211 7216 7217\n 7221 7278 7296 7298 7299 7311 7333 7338 7339 7342 7349 7361 7372 7375\n 7379 7392 7393 7394 7395 7399 7512 7513 7519 7523 7531 7534 7535 7538\n 7542 7549 7622 7623 7629 7641 7692 7699 7829 7832 7841 7941 7991 7993\n 7994 7996 7997 7998 7999 8011 8021 8041 8042 8043 8049 8050 8062 8071\n 8099 8111 8220 8244 8249 8299 8398 8641 8675 8699 8734 8911 8931 8999\n 9222 9399 9402]",
     "traceback": [
      "\u001b[1;31m---------------------------------------------------------------------------\u001b[0m",
      "\u001b[1;31mValueError\u001b[0m                                Traceback (most recent call last)",
      "Cell \u001b[1;32mIn[32], line 3\u001b[0m\n\u001b[0;32m      1\u001b[0m \u001b[38;5;66;03m# Model training - XGBoost\u001b[39;00m\n\u001b[0;32m      2\u001b[0m xgb_classifier \u001b[38;5;241m=\u001b[39m xgb\u001b[38;5;241m.\u001b[39mXGBClassifier(objective\u001b[38;5;241m=\u001b[39m\u001b[38;5;124m'\u001b[39m\u001b[38;5;124mmulti:softmax\u001b[39m\u001b[38;5;124m'\u001b[39m, num_class\u001b[38;5;241m=\u001b[39m\u001b[38;5;28mlen\u001b[39m(data[\u001b[38;5;124m'\u001b[39m\u001b[38;5;124mMCC CODE\u001b[39m\u001b[38;5;124m'\u001b[39m]\u001b[38;5;241m.\u001b[39munique()), random_state\u001b[38;5;241m=\u001b[39m\u001b[38;5;241m42\u001b[39m)\n\u001b[1;32m----> 3\u001b[0m \u001b[43mxgb_classifier\u001b[49m\u001b[38;5;241;43m.\u001b[39;49m\u001b[43mfit\u001b[49m\u001b[43m(\u001b[49m\u001b[43mX_train\u001b[49m\u001b[43m,\u001b[49m\u001b[43m \u001b[49m\u001b[43my_train\u001b[49m\u001b[43m)\u001b[49m\n",
      "File \u001b[1;32m~\\AppData\\Roaming\\Python\\Python39\\site-packages\\xgboost\\core.py:730\u001b[0m, in \u001b[0;36mrequire_keyword_args.<locals>.throw_if.<locals>.inner_f\u001b[1;34m(*args, **kwargs)\u001b[0m\n\u001b[0;32m    728\u001b[0m \u001b[38;5;28;01mfor\u001b[39;00m k, arg \u001b[38;5;129;01min\u001b[39;00m \u001b[38;5;28mzip\u001b[39m(sig\u001b[38;5;241m.\u001b[39mparameters, args):\n\u001b[0;32m    729\u001b[0m     kwargs[k] \u001b[38;5;241m=\u001b[39m arg\n\u001b[1;32m--> 730\u001b[0m \u001b[38;5;28;01mreturn\u001b[39;00m func(\u001b[38;5;241m*\u001b[39m\u001b[38;5;241m*\u001b[39mkwargs)\n",
      "File \u001b[1;32m~\\AppData\\Roaming\\Python\\Python39\\site-packages\\xgboost\\sklearn.py:1471\u001b[0m, in \u001b[0;36mXGBClassifier.fit\u001b[1;34m(self, X, y, sample_weight, base_margin, eval_set, eval_metric, early_stopping_rounds, verbose, xgb_model, sample_weight_eval_set, base_margin_eval_set, feature_weights, callbacks)\u001b[0m\n\u001b[0;32m   1466\u001b[0m     expected_classes \u001b[38;5;241m=\u001b[39m \u001b[38;5;28mself\u001b[39m\u001b[38;5;241m.\u001b[39mclasses_\n\u001b[0;32m   1467\u001b[0m \u001b[38;5;28;01mif\u001b[39;00m (\n\u001b[0;32m   1468\u001b[0m     classes\u001b[38;5;241m.\u001b[39mshape \u001b[38;5;241m!=\u001b[39m expected_classes\u001b[38;5;241m.\u001b[39mshape\n\u001b[0;32m   1469\u001b[0m     \u001b[38;5;129;01mor\u001b[39;00m \u001b[38;5;129;01mnot\u001b[39;00m (classes \u001b[38;5;241m==\u001b[39m expected_classes)\u001b[38;5;241m.\u001b[39mall()\n\u001b[0;32m   1470\u001b[0m ):\n\u001b[1;32m-> 1471\u001b[0m     \u001b[38;5;28;01mraise\u001b[39;00m \u001b[38;5;167;01mValueError\u001b[39;00m(\n\u001b[0;32m   1472\u001b[0m         \u001b[38;5;124mf\u001b[39m\u001b[38;5;124m\"\u001b[39m\u001b[38;5;124mInvalid classes inferred from unique values of `y`.  \u001b[39m\u001b[38;5;124m\"\u001b[39m\n\u001b[0;32m   1473\u001b[0m         \u001b[38;5;124mf\u001b[39m\u001b[38;5;124m\"\u001b[39m\u001b[38;5;124mExpected: \u001b[39m\u001b[38;5;132;01m{\u001b[39;00mexpected_classes\u001b[38;5;132;01m}\u001b[39;00m\u001b[38;5;124m, got \u001b[39m\u001b[38;5;132;01m{\u001b[39;00mclasses\u001b[38;5;132;01m}\u001b[39;00m\u001b[38;5;124m\"\u001b[39m\n\u001b[0;32m   1474\u001b[0m     )\n\u001b[0;32m   1476\u001b[0m params \u001b[38;5;241m=\u001b[39m \u001b[38;5;28mself\u001b[39m\u001b[38;5;241m.\u001b[39mget_xgb_params()\n\u001b[0;32m   1478\u001b[0m \u001b[38;5;28;01mif\u001b[39;00m \u001b[38;5;28mcallable\u001b[39m(\u001b[38;5;28mself\u001b[39m\u001b[38;5;241m.\u001b[39mobjective):\n",
      "\u001b[1;31mValueError\u001b[0m: Invalid classes inferred from unique values of `y`.  Expected: [  0   1   2   3   4   5   6   7   8   9  10  11  12  13  14  15  16  17\n  18  19  20  21  22  23  24  25  26  27  28  29  30  31  32  33  34  35\n  36  37  38  39  40  41  42  43  44  45  46  47  48  49  50  51  52  53\n  54  55  56  57  58  59  60  61  62  63  64  65  66  67  68  69  70  71\n  72  73  74  75  76  77  78  79  80  81  82  83  84  85  86  87  88  89\n  90  91  92  93  94  95  96  97  98  99 100 101 102 103 104 105 106 107\n 108 109 110 111 112 113 114 115 116 117 118 119 120 121 122 123 124 125\n 126 127 128 129 130 131 132 133 134 135 136 137 138 139 140 141 142 143\n 144 145 146 147 148 149 150 151 152 153 154 155 156 157 158 159 160 161\n 162 163 164 165 166 167 168 169 170 171 172 173 174 175 176 177 178 179\n 180 181 182 183 184 185 186 187 188 189 190 191 192 193 194 195 196 197\n 198 199 200 201 202 203 204 205 206 207 208 209 210 211 212 213 214 215\n 216 217 218 219 220 221 222 223 224 225 226 227 228 229 230 231 232 233\n 234 235 236 237 238 239 240 241 242 243 244 245 246 247 248 249 250 251\n 252 253 254 255 256 257 258 259 260 261 262 263 264 265 266 267 268], got [   0  742  763  780 1520 1711 1731 1740 1750 1761 1771 1799 2741 2791\n 2842 3000 3058 3061 3256 3395 3405 3501 3502 3503 3504 3507 3508 3509\n 3510 3515 3516 3562 3604 3630 3631 3637 3638 3640 3644 3662 3665 3690\n 3692 3693 3695 3700 3703 3706 3709 3715 3722 3740 3778 3791 4011 4111\n 4119 4121 4131 4214 4215 4225 4457 4468 4511 4582 4722 4784 4789 4812\n 4814 4816 4821 4899 4900 5013 5021 5039 5044 5045 5046 5047 5051 5065\n 5072 5074 5085 5094 5099 5111 5122 5131 5137 5139 5169 5172 5192 5193\n 5198 5199 5200 5211 5231 5251 5261 5300 5310 5311 5331 5399 5411 5422\n 5441 5462 5499 5511 5521 5532 5533 5541 5542 5551 5561 5571 5592 5598\n 5599 5611 5621 5631 5651 5655 5661 5691 5697 5699 5712 5713 5714 5718\n 5719 5722 5732 5733 5734 5735 5811 5812 5814 5912 5921 5931 5932 5935\n 5940 5941 5942 5943 5944 5945 5946 5947 5948 5949 5950 5960 5964 5965\n 5967 5968 5969 5970 5971 5972 5975 5976 5977 5978 5983 5992 5994 5995\n 5996 5998 5999 6051 6211 6300 6513 7011 7032 7033 7210 7211 7216 7217\n 7221 7278 7296 7298 7299 7311 7333 7338 7339 7342 7349 7361 7372 7375\n 7379 7392 7393 7394 7395 7399 7512 7513 7519 7523 7531 7534 7535 7538\n 7542 7549 7622 7623 7629 7641 7692 7699 7829 7832 7841 7941 7991 7993\n 7994 7996 7997 7998 7999 8011 8021 8041 8042 8043 8049 8050 8062 8071\n 8099 8111 8220 8244 8249 8299 8398 8641 8675 8699 8734 8911 8931 8999\n 9222 9399 9402]"
     ]
    }
   ],
   "source": [
    "# Model training - XGBoost\n",
    "xgb_classifier = xgb.XGBClassifier(objective='multi:softmax', num_class=len(data['MCC CODE'].unique()), random_state=42)\n",
    "xgb_classifier.fit(X_train, y_train)"
   ]
  },
  {
   "cell_type": "code",
   "execution_count": null,
   "metadata": {},
   "outputs": [],
   "source": []
  }
 ]
}